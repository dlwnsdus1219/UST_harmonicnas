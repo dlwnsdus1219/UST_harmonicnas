{
 "cells": [
  {
   "cell_type": "markdown",
   "metadata": {},
   "source": [
    "이번엔 Sweep 사용!!"
   ]
  },
  {
   "cell_type": "code",
   "execution_count": 1,
   "metadata": {},
   "outputs": [
    {
     "name": "stdout",
     "output_type": "stream",
     "text": [
      "Requirement already satisfied: matplotlib in /home/etri01/anaconda3/lib/python3.9/site-packages (3.5.2)\n",
      "Requirement already satisfied: fonttools>=4.22.0 in /home/etri01/anaconda3/lib/python3.9/site-packages (from matplotlib) (4.25.0)\n",
      "Requirement already satisfied: numpy>=1.17 in /home/etri01/anaconda3/lib/python3.9/site-packages (from matplotlib) (1.21.5)\n",
      "Requirement already satisfied: kiwisolver>=1.0.1 in /home/etri01/anaconda3/lib/python3.9/site-packages (from matplotlib) (1.4.2)\n",
      "Requirement already satisfied: cycler>=0.10 in /home/etri01/anaconda3/lib/python3.9/site-packages (from matplotlib) (0.11.0)\n",
      "Requirement already satisfied: pyparsing>=2.2.1 in /home/etri01/anaconda3/lib/python3.9/site-packages (from matplotlib) (3.0.9)\n",
      "Requirement already satisfied: python-dateutil>=2.7 in /home/etri01/anaconda3/lib/python3.9/site-packages (from matplotlib) (2.8.2)\n",
      "Requirement already satisfied: pillow>=6.2.0 in /home/etri01/anaconda3/lib/python3.9/site-packages (from matplotlib) (9.2.0)\n",
      "Requirement already satisfied: packaging>=20.0 in /home/etri01/anaconda3/lib/python3.9/site-packages (from matplotlib) (21.3)\n",
      "Requirement already satisfied: six>=1.5 in /home/etri01/anaconda3/lib/python3.9/site-packages (from python-dateutil>=2.7->matplotlib) (1.16.0)\n",
      "Note: you may need to restart the kernel to use updated packages.\n"
     ]
    }
   ],
   "source": [
    "pip install matplotlib"
   ]
  },
  {
   "cell_type": "code",
   "execution_count": 2,
   "metadata": {},
   "outputs": [],
   "source": [
    "import numpy as np\n",
    "import pandas as pd\n",
    "import matplotlib.pyplot as plt\n",
    "import seaborn as sns\n",
    "from sklearn.metrics import f1_score"
   ]
  },
  {
   "cell_type": "code",
   "execution_count": 3,
   "metadata": {},
   "outputs": [
    {
     "name": "stdout",
     "output_type": "stream",
     "text": [
      "Requirement already satisfied: torchsummary in /home/etri01/anaconda3/lib/python3.9/site-packages (1.5.1)\n",
      "Note: you may need to restart the kernel to use updated packages.\n"
     ]
    }
   ],
   "source": [
    "pip install torchsummary"
   ]
  },
  {
   "cell_type": "code",
   "execution_count": 7,
   "metadata": {},
   "outputs": [
    {
     "name": "stdout",
     "output_type": "stream",
     "text": [
      "nvcc: NVIDIA (R) Cuda compiler driver\n",
      "Copyright (c) 2005-2023 NVIDIA Corporation\n",
      "Built on Mon_Apr__3_17:16:06_PDT_2023\n",
      "Cuda compilation tools, release 12.1, V12.1.105\n",
      "Build cuda_12.1.r12.1/compiler.32688072_0\n"
     ]
    }
   ],
   "source": [
    "!nvcc --version"
   ]
  },
  {
   "cell_type": "code",
   "execution_count": null,
   "metadata": {},
   "outputs": [],
   "source": [
    "import torch\n",
    "import torch.nn as nn\n",
    "import torch.optim as optim\n",
    "import torchvision\n",
    "from torchsummary import summary"
   ]
  },
  {
   "cell_type": "code",
   "execution_count": null,
   "metadata": {},
   "outputs": [],
   "source": [
    "import torchvision.transforms as transforms\n",
    "from torchvision.datasets import MNIST\n",
    "from torch.utils.data import DataLoader"
   ]
  },
  {
   "cell_type": "code",
   "execution_count": null,
   "metadata": {},
   "outputs": [],
   "source": [
    "device = torch.device('cuda:0' if torch.cuda.is_available() else 'cpu')\n",
    "print('device:', device)"
   ]
  },
  {
   "cell_type": "code",
   "execution_count": null,
   "metadata": {},
   "outputs": [],
   "source": []
  },
  {
   "cell_type": "code",
   "execution_count": null,
   "metadata": {},
   "outputs": [],
   "source": [
    "class VGG16(nn.Module):\n",
    "    def __init__(self, num_classes=10):\n",
    "        super(VGG16, self).__init__()\n",
    "        self.features = nn.Sequential(\n",
    "            nn.Conv2d(1, 64, kernel_size=3, stride=1, padding=1),\n",
    "            nn.ReLU(inplace=True),\n",
    "            nn.MaxPool2d(kernel_size=2, stride=2, padding=0),\n",
    "            nn.Conv2d(64, 128, kernel_size=3, stride=1, padding=1),\n",
    "            nn.ReLU(inplace=True),\n",
    "            nn.MaxPool2d(kernel_size=2, stride=2, padding=0),\n",
    "            nn.Conv2d(128, 256, kernel_size=3, stride=1, padding=1), \n",
    "            nn.ReLU(inplace=True),\n",
    "            nn.Conv2d(256, 256, kernel_size=3, stride=1, padding=1),\n",
    "            nn.ReLU(inplace=True),\n",
    "            nn.MaxPool2d(kernel_size=2, stride=2, padding=0)\n",
    "        )\n",
    "\n",
    "        self.classifier = nn.Sequential(\n",
    "            nn.Linear(256 * 3 * 3, 4096),\n",
    "            nn.ReLU(inplace=True),\n",
    "            nn.Dropout(),\n",
    "            nn.Linear(4096, 4096),\n",
    "            nn.Dropout(),\n",
    "            nn.Linear(4096, num_classes)\n",
    "        )\n",
    "    \n",
    "    def forward(self, x):\n",
    "        x = self.features(x)\n",
    "        x = x.view(x.size(0), -1)\n",
    "        x = self.classifier(x)\n",
    "        return x"
   ]
  },
  {
   "cell_type": "code",
   "execution_count": null,
   "metadata": {},
   "outputs": [],
   "source": [
    "model = VGG16(num_classes=10)\n",
    "\n",
    "criterion = nn.CrossEntropyLoss()\n",
    "optimizer = optim.Adam(model.parameters(), lr=0.001)"
   ]
  },
  {
   "cell_type": "code",
   "execution_count": null,
   "metadata": {},
   "outputs": [],
   "source": [
    "summary(model, input_size=(1, 28, 28))"
   ]
  },
  {
   "cell_type": "code",
   "execution_count": null,
   "metadata": {},
   "outputs": [],
   "source": [
    "## 자, 이제 완디비를 설치해 봅시다잇\n",
    "import wandb\n",
    "\n",
    "## 개인 API 먼저!\n",
    "wandb.login()"
   ]
  },
  {
   "cell_type": "markdown",
   "metadata": {},
   "source": [
    "Sweep: 하이퍼 파라미터 변경 시마다 새롭게 init!!"
   ]
  },
  {
   "cell_type": "code",
   "execution_count": 9,
   "metadata": {},
   "outputs": [
    {
     "name": "stdout",
     "output_type": "stream",
     "text": [
      "Collecting torchvision\n",
      "  Downloading torchvision-0.21.0-cp39-cp39-manylinux1_x86_64.whl (7.2 MB)\n",
      "\u001b[2K     \u001b[90m━━━━━━━━━━━━━━━━━━━━━━━━━━━━━━━━━━━━━━━━\u001b[0m \u001b[32m7.2/7.2 MB\u001b[0m \u001b[31m20.3 MB/s\u001b[0m eta \u001b[36m0:00:00\u001b[0m00:01\u001b[0m00:01\u001b[0m\n",
      "\u001b[?25hRequirement already satisfied: torch==2.6.0 in /home/etri01/anaconda3/lib/python3.9/site-packages (from torchvision) (2.6.0)\n",
      "Requirement already satisfied: numpy in /home/etri01/anaconda3/lib/python3.9/site-packages (from torchvision) (1.21.5)\n",
      "Requirement already satisfied: pillow!=8.3.*,>=5.3.0 in /home/etri01/anaconda3/lib/python3.9/site-packages (from torchvision) (9.2.0)\n",
      "Requirement already satisfied: nvidia-nvtx-cu12==12.4.127 in /home/etri01/anaconda3/lib/python3.9/site-packages (from torch==2.6.0->torchvision) (12.4.127)\n",
      "Requirement already satisfied: filelock in /home/etri01/anaconda3/lib/python3.9/site-packages (from torch==2.6.0->torchvision) (3.6.0)\n",
      "Requirement already satisfied: nvidia-cusparselt-cu12==0.6.2 in /home/etri01/anaconda3/lib/python3.9/site-packages (from torch==2.6.0->torchvision) (0.6.2)\n",
      "Requirement already satisfied: nvidia-cuda-runtime-cu12==12.4.127 in /home/etri01/anaconda3/lib/python3.9/site-packages (from torch==2.6.0->torchvision) (12.4.127)\n",
      "Requirement already satisfied: sympy==1.13.1 in /home/etri01/anaconda3/lib/python3.9/site-packages (from torch==2.6.0->torchvision) (1.13.1)\n",
      "Requirement already satisfied: nvidia-nvjitlink-cu12==12.4.127 in /home/etri01/anaconda3/lib/python3.9/site-packages (from torch==2.6.0->torchvision) (12.4.127)\n",
      "Requirement already satisfied: nvidia-cuda-nvrtc-cu12==12.4.127 in /home/etri01/anaconda3/lib/python3.9/site-packages (from torch==2.6.0->torchvision) (12.4.127)\n",
      "Requirement already satisfied: nvidia-cuda-cupti-cu12==12.4.127 in /home/etri01/anaconda3/lib/python3.9/site-packages (from torch==2.6.0->torchvision) (12.4.127)\n",
      "Requirement already satisfied: triton==3.2.0 in /home/etri01/anaconda3/lib/python3.9/site-packages (from torch==2.6.0->torchvision) (3.2.0)\n",
      "Requirement already satisfied: jinja2 in /home/etri01/anaconda3/lib/python3.9/site-packages (from torch==2.6.0->torchvision) (2.11.3)\n",
      "Requirement already satisfied: typing-extensions>=4.10.0 in /home/etri01/anaconda3/lib/python3.9/site-packages (from torch==2.6.0->torchvision) (4.12.2)\n",
      "Requirement already satisfied: nvidia-cusolver-cu12==11.6.1.9 in /home/etri01/anaconda3/lib/python3.9/site-packages (from torch==2.6.0->torchvision) (11.6.1.9)\n",
      "Requirement already satisfied: fsspec in /home/etri01/anaconda3/lib/python3.9/site-packages (from torch==2.6.0->torchvision) (2024.12.0)\n",
      "Requirement already satisfied: nvidia-cufft-cu12==11.2.1.3 in /home/etri01/anaconda3/lib/python3.9/site-packages (from torch==2.6.0->torchvision) (11.2.1.3)\n",
      "Requirement already satisfied: nvidia-cudnn-cu12==9.1.0.70 in /home/etri01/anaconda3/lib/python3.9/site-packages (from torch==2.6.0->torchvision) (9.1.0.70)\n",
      "Requirement already satisfied: nvidia-cublas-cu12==12.4.5.8 in /home/etri01/anaconda3/lib/python3.9/site-packages (from torch==2.6.0->torchvision) (12.4.5.8)\n",
      "Requirement already satisfied: nvidia-nccl-cu12==2.21.5 in /home/etri01/anaconda3/lib/python3.9/site-packages (from torch==2.6.0->torchvision) (2.21.5)\n",
      "Requirement already satisfied: nvidia-curand-cu12==10.3.5.147 in /home/etri01/anaconda3/lib/python3.9/site-packages (from torch==2.6.0->torchvision) (10.3.5.147)\n",
      "Requirement already satisfied: networkx in /home/etri01/anaconda3/lib/python3.9/site-packages (from torch==2.6.0->torchvision) (2.8.4)\n",
      "Requirement already satisfied: nvidia-cusparse-cu12==12.3.1.170 in /home/etri01/anaconda3/lib/python3.9/site-packages (from torch==2.6.0->torchvision) (12.3.1.170)\n",
      "Requirement already satisfied: mpmath<1.4,>=1.1.0 in /home/etri01/anaconda3/lib/python3.9/site-packages (from sympy==1.13.1->torch==2.6.0->torchvision) (1.2.1)\n",
      "Requirement already satisfied: MarkupSafe>=0.23 in /home/etri01/anaconda3/lib/python3.9/site-packages (from jinja2->torch==2.6.0->torchvision) (2.0.1)\n",
      "Installing collected packages: torchvision\n",
      "Successfully installed torchvision-0.21.0\n",
      "Note: you may need to restart the kernel to use updated packages.\n"
     ]
    }
   ],
   "source": [
    "pip install torchvision"
   ]
  },
  {
   "cell_type": "code",
   "execution_count": null,
   "metadata": {},
   "outputs": [],
   "source": [
    "from torchvision import transforms, datasets\n",
    "from torch.utils.data import DataLoader\n",
    "from torchvision.datasets import MNIST\n",
    "\n",
    "def create_data_loaders(batch_size):\n",
    "    transform = transforms.Compose([\n",
    "        transforms.ToTensor(),\n",
    "        transforms.Normalize((0.5,), (0.5,))\n",
    "    ])\n",
    "\n",
    "    train_dataset = MNIST(root='./mnistdata', train=True, download=True, transform=transform)\n",
    "    test_dataset = MNIST(root='./mnistdata', train=False, download=True, transform=transform)\n",
    "\n",
    "    train_loader = DataLoader(dataset=train_dataset, batch_size=batch_size, shuffle=True)\n",
    "    test_loader = DataLoader(dataset=test_dataset, batch_size=batch_size, shuffle=False)\n",
    "\n",
    "    return train_loader, test_loader"
   ]
  },
  {
   "cell_type": "code",
   "execution_count": null,
   "metadata": {},
   "outputs": [],
   "source": [
    "def create_train_loader(batch_size):\n",
    "    train_loader, _ = create_data_loaders(batch_size)\n",
    "    return train_loader\n",
    "\n",
    "def create_test_loader(batch_size):\n",
    "    _, test_loader = create_data_loaders(batch_size)\n",
    "    return test_loader"
   ]
  },
  {
   "cell_type": "markdown",
   "metadata": {},
   "source": [
    "옵티마이저도 하나의 하이퍼 파라미터!!"
   ]
  },
  {
   "cell_type": "code",
   "execution_count": 11,
   "metadata": {},
   "outputs": [],
   "source": [
    "def get_optimizer(optimizer_name, model_parameters, learning_rate, momentum=0.0, weight_decay=0.0):\n",
    "    if optimizer_name == 'adam':\n",
    "        return torch.optim.Adam(model_parameters, lr=learning_rate, weight_decay=weight_decay)\n",
    "    elif optimizer_name == 'sgd':\n",
    "        return torch.optim.SGD(model_parameters, lr=learning_rate, momentum=momentum, weight_decay=weight_decay)\n",
    "    elif optimizer_name == 'rmsprop':\n",
    "        return torch.optim.RMSprop(model_parameters, lr=learning_rate, momentum=momentum, weight_decay=weight_decay)\n",
    "    elif optimizer_name == 'adamw':\n",
    "        return torch.optim.AdamW(model_parameters, lr=learning_rate, weight_decay=weight_decay)\n",
    "    else:\n",
    "        raise ValueError(f\"Unsupported Optimizer: {optimizer_name}\")"
   ]
  },
  {
   "cell_type": "markdown",
   "metadata": {},
   "source": [
    "모델 학습 Loop"
   ]
  },
  {
   "cell_type": "code",
   "execution_count": null,
   "metadata": {},
   "outputs": [],
   "source": [
    "# Training Loop\n",
    "def train_one_epoch(model, train_loader, optimizer, criterion):\n",
    "    model.train()\n",
    "    for images, labels in train_loader:\n",
    "        images, labels = images.to(device), labels.to(device)\n",
    "        optimizer.zero_grad()\n",
    "        outputs = model(images)\n",
    "        loss = criterion(outputs, labels)\n",
    "        loss.backward()     # Back Propagation\n",
    "        optimizer.step()\n",
    "    return loss.item()\n",
    "\n",
    "# Validation 과정(with 테스트 데이터셋)\n",
    "def validate_one_epoch(model, test_loader, criterion):\n",
    "    model.eval()\n",
    "    total_loss = 0\n",
    "    total_metrics = {'accuracy': 0, 'f1_score': 0}\n",
    "    num_batches = 0\n",
    "\n",
    "    with torch.no_grad():\n",
    "        for images, labels in test_loader:\n",
    "             images, labels = images.to(device), labels.to(device)\n",
    "             outputs = model(images)\n",
    "             loss = criterion(outputs, labels)\n",
    "             total_loss += loss.item()\n",
    "\n",
    "             _, predicted = torch.max(outputs.data, 1)\n",
    "             total = labels.size(0)\n",
    "             correct = (predicted == labels).sum().item()\n",
    "             accuracy = correct / total\n",
    "             predicted_cpu = predicted.cpu()\n",
    "             labels_cpu = labels.cpu()\n",
    "             f1 = f1_score(labels_cpu, predicted_cpu, average='macro')\n",
    "\n",
    "             total_metrics['accuracy'] += accuracy\n",
    "             total_metrics['f1_score'] += f1\n",
    "             num_batches += 1\n",
    "    \n",
    "    avg_loss = total_loss / num_batches\n",
    "    avg_metrics = {k: v / num_batches for k, v in total_metrics.items()}\n",
    "\n",
    "    # 한 에포크마다 validation 하고 기록!!\n",
    "    wandb.log({\n",
    "        'val_accuracy': avg_metrics['accuracy'],\n",
    "        'val_f1_score': avg_metrics['f1_score']\n",
    "    })\n",
    "\n",
    "    return avg_loss"
   ]
  },
  {
   "cell_type": "markdown",
   "metadata": {},
   "source": [
    "자, 이제 main train 함수에서 WandB 사용!"
   ]
  },
  {
   "cell_type": "code",
   "execution_count": null,
   "metadata": {},
   "outputs": [],
   "source": [
    "def train_model(config=None):\n",
    "    with wandb.init(config=config):\n",
    "        config = wandb.config\n",
    "\n",
    "        model = VGG16(num_classes=10)\n",
    "        model = model.to(device)\n",
    "\n",
    "        train_loader = create_train_loader(config.batch_size)\n",
    "        test_loader = create_test_loader(config.batch_size)\n",
    "\n",
    "        optimizer = get_optimizer(\n",
    "            optimizer_name = config.parameter,\n",
    "            model_parameters = model.parameters(),\n",
    "            learning_rate=config.learning_rate,\n",
    "            momentum=config.momentum if hasattr(config, 'momentum') else 0.0,\n",
    "            weight_decay=config.weight_decay if hasattr(config, 'weight_decay') else 0.0\n",
    "        )\n",
    "\n",
    "        criterion = nn.CrossEntropyLoss()       # loss function 같은 경우에는 고정함!!\n",
    "\n",
    "        wandb.watch(model)\n",
    "\n",
    "        for epoch in range(config.n_epochs):\n",
    "            train_loss = train_one_epoch(model, train_loader, optimizer, criterion)\n",
    "            val_loss = validate_one_epoch(model, test_loader, criterion)\n",
    "            wandb.log({\n",
    "                'train_loss': train_loss,\n",
    "                'val_loss': val_loss,\n",
    "                'epoch': epoch\n",
    "            })\n",
    "            print(f\"Epoch {epoch+1}/{config.n_epochs}, Train Loss: {train_loss:.4f}, Val Loss: {val_loss:.4f}\")"
   ]
  },
  {
   "cell_type": "markdown",
   "metadata": {},
   "source": [
    "Sweep Configuration"
   ]
  },
  {
   "cell_type": "code",
   "execution_count": null,
   "metadata": {},
   "outputs": [],
   "source": [
    "## 학습을 어케 진행할 것인가??\n",
    "sweep_configuration = {\n",
    "    {'method': 'bayes',\n",
    "     'name': 'sweep-bayes',         # 그냥 실험 이름 기입 ㄱㄱ\n",
    "     'metric': {'goal': 'maximize', 'name': 'val_accuracy'},\n",
    "     ## 어떤 하이퍼 파라미터를 최적화??\n",
    "     'parameters': {\n",
    "         'batch_size': {'values': [16, 32, 64]},\n",
    "         'n_epochs': {'values': [3, 5, 10]},\n",
    "         'learning_rate': {'max': 0.1, 'min': 0.0001},\n",
    "         'optimizer': {\n",
    "             'values': ['adam', 'sgd', 'rmsprop', 'adamw']\n",
    "         }},\n",
    "         'momentum': {'values': [0.0, 0.9]},\n",
    "         'weight_decay': {'values': [0.0, 0.001, 0.0001]}\n",
    "    }\n",
    "}\n",
    "\n",
    "sweep_id = wandb.sweep(\n",
    "    sweep = sweep_configuration,\n",
    "    entity = 'GDGC-CNU',        # 팀 이름\n",
    "    project = 'Weights_Biases_Advanced'\n",
    ")"
   ]
  },
  {
   "cell_type": "code",
   "execution_count": null,
   "metadata": {},
   "outputs": [],
   "source": [
    "wandb.agent(sweep_id, function=train_model, count=30)       # 에포크 돌릴 main 함수(train model) => 결과적으로 총 30개 모델!!"
   ]
  },
  {
   "cell_type": "code",
   "execution_count": null,
   "metadata": {},
   "outputs": [],
   "source": [
    "wandb.finish()"
   ]
  }
 ],
 "metadata": {
  "kernelspec": {
   "display_name": "Python 3.9 (base)",
   "language": "python",
   "name": "base"
  },
  "language_info": {
   "codemirror_mode": {
    "name": "ipython",
    "version": 3
   },
   "file_extension": ".py",
   "mimetype": "text/x-python",
   "name": "python",
   "nbconvert_exporter": "python",
   "pygments_lexer": "ipython3",
   "version": "3.9.13"
  }
 },
 "nbformat": 4,
 "nbformat_minor": 2
}
